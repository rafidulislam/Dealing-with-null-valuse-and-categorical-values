{
  "nbformat": 4,
  "nbformat_minor": 0,
  "metadata": {
    "colab": {
      "name": "Untitled12.ipynb",
      "provenance": []
    },
    "kernelspec": {
      "name": "python3",
      "display_name": "Python 3"
    },
    "language_info": {
      "name": "python"
    }
  },
  "cells": [
    {
      "cell_type": "code",
      "metadata": {
        "id": "KeasS00TnchG"
      },
      "source": [
        ""
      ],
      "execution_count": null,
      "outputs": []
    },
    {
      "cell_type": "code",
      "metadata": {
        "id": "pelOx3hEY0ui"
      },
      "source": [
        "import numpy as np\n",
        "import matplotlib.pyplot as plt\n",
        "import pandas as pd"
      ],
      "execution_count": null,
      "outputs": []
    },
    {
      "cell_type": "code",
      "metadata": {
        "id": "wqqYdOm-mTRp"
      },
      "source": [
        "dataset= pd.read_csv('dataset1.csv')"
      ],
      "execution_count": null,
      "outputs": []
    },
    {
      "cell_type": "code",
      "metadata": {
        "colab": {
          "base_uri": "https://localhost:8080/"
        },
        "id": "K6oh9XvfnIXZ",
        "outputId": "fc2ca197-a4a7-44fa-8c5d-97a0071f8d4d"
      },
      "source": [
        "dataset.isnull().sum()"
      ],
      "execution_count": null,
      "outputs": [
        {
          "output_type": "execute_result",
          "data": {
            "text/plain": [
              "Unnamed: 0                0\n",
              "datetime                  0\n",
              "cough_detected            0\n",
              "latitude                 10\n",
              "longitude                10\n",
              "age                      12\n",
              "gender                   10\n",
              "respiratory_condition    10\n",
              "fever_muscle_pain        10\n",
              "status                   10\n",
              "expert_labels_3          21\n",
              "dtype: int64"
            ]
          },
          "metadata": {
            "tags": []
          },
          "execution_count": 3
        }
      ]
    },
    {
      "cell_type": "code",
      "metadata": {
        "colab": {
          "base_uri": "https://localhost:8080/",
          "height": 558
        },
        "id": "Od4JaSHwoXlz",
        "outputId": "8fd5583e-f662-404b-866d-65971740bdb2"
      },
      "source": [
        "dataset[dataset.fever_muscle_pain.isnull()]"
      ],
      "execution_count": null,
      "outputs": [
        {
          "output_type": "execute_result",
          "data": {
            "text/html": [
              "<div>\n",
              "<style scoped>\n",
              "    .dataframe tbody tr th:only-of-type {\n",
              "        vertical-align: middle;\n",
              "    }\n",
              "\n",
              "    .dataframe tbody tr th {\n",
              "        vertical-align: top;\n",
              "    }\n",
              "\n",
              "    .dataframe thead th {\n",
              "        text-align: right;\n",
              "    }\n",
              "</style>\n",
              "<table border=\"1\" class=\"dataframe\">\n",
              "  <thead>\n",
              "    <tr style=\"text-align: right;\">\n",
              "      <th></th>\n",
              "      <th>Unnamed: 0</th>\n",
              "      <th>datetime</th>\n",
              "      <th>cough_detected</th>\n",
              "      <th>latitude</th>\n",
              "      <th>longitude</th>\n",
              "      <th>age</th>\n",
              "      <th>gender</th>\n",
              "      <th>respiratory_condition</th>\n",
              "      <th>fever_muscle_pain</th>\n",
              "      <th>status</th>\n",
              "      <th>expert_labels_3</th>\n",
              "    </tr>\n",
              "  </thead>\n",
              "  <tbody>\n",
              "    <tr>\n",
              "      <th>3</th>\n",
              "      <td>3</td>\n",
              "      <td>2020-04-15T01:03:59.029326+00:00</td>\n",
              "      <td>0.0482</td>\n",
              "      <td>-16.5</td>\n",
              "      <td>-71.5</td>\n",
              "      <td>NaN</td>\n",
              "      <td>NaN</td>\n",
              "      <td>NaN</td>\n",
              "      <td>NaN</td>\n",
              "      <td>NaN</td>\n",
              "      <td>NaN</td>\n",
              "    </tr>\n",
              "    <tr>\n",
              "      <th>5</th>\n",
              "      <td>5</td>\n",
              "      <td>2020-04-17T15:24:35.822355+00:00</td>\n",
              "      <td>0.0735</td>\n",
              "      <td>40.6</td>\n",
              "      <td>-3.6</td>\n",
              "      <td>NaN</td>\n",
              "      <td>NaN</td>\n",
              "      <td>NaN</td>\n",
              "      <td>NaN</td>\n",
              "      <td>NaN</td>\n",
              "      <td>NaN</td>\n",
              "    </tr>\n",
              "    <tr>\n",
              "      <th>7</th>\n",
              "      <td>7</td>\n",
              "      <td>2020-05-15T08:50:59.481638+00:00</td>\n",
              "      <td>0.0307</td>\n",
              "      <td>43.6</td>\n",
              "      <td>-6.9</td>\n",
              "      <td>NaN</td>\n",
              "      <td>NaN</td>\n",
              "      <td>NaN</td>\n",
              "      <td>NaN</td>\n",
              "      <td>NaN</td>\n",
              "      <td>NaN</td>\n",
              "    </tr>\n",
              "    <tr>\n",
              "      <th>12</th>\n",
              "      <td>12</td>\n",
              "      <td>2020-04-13T19:51:11.397697+00:00</td>\n",
              "      <td>0.9536</td>\n",
              "      <td>NaN</td>\n",
              "      <td>NaN</td>\n",
              "      <td>NaN</td>\n",
              "      <td>NaN</td>\n",
              "      <td>NaN</td>\n",
              "      <td>NaN</td>\n",
              "      <td>NaN</td>\n",
              "      <td>NaN</td>\n",
              "    </tr>\n",
              "    <tr>\n",
              "      <th>13</th>\n",
              "      <td>13</td>\n",
              "      <td>2020-07-24T07:16:32.981624+00:00</td>\n",
              "      <td>0.9712</td>\n",
              "      <td>NaN</td>\n",
              "      <td>NaN</td>\n",
              "      <td>NaN</td>\n",
              "      <td>NaN</td>\n",
              "      <td>NaN</td>\n",
              "      <td>NaN</td>\n",
              "      <td>NaN</td>\n",
              "      <td>NaN</td>\n",
              "    </tr>\n",
              "    <tr>\n",
              "      <th>14</th>\n",
              "      <td>14</td>\n",
              "      <td>2020-04-24T17:49:59.357899+00:00</td>\n",
              "      <td>0.8240</td>\n",
              "      <td>NaN</td>\n",
              "      <td>NaN</td>\n",
              "      <td>NaN</td>\n",
              "      <td>NaN</td>\n",
              "      <td>NaN</td>\n",
              "      <td>NaN</td>\n",
              "      <td>NaN</td>\n",
              "      <td>NaN</td>\n",
              "    </tr>\n",
              "    <tr>\n",
              "      <th>16</th>\n",
              "      <td>16</td>\n",
              "      <td>2020-04-11T17:00:58.737255+00:00</td>\n",
              "      <td>0.3009</td>\n",
              "      <td>NaN</td>\n",
              "      <td>NaN</td>\n",
              "      <td>NaN</td>\n",
              "      <td>NaN</td>\n",
              "      <td>NaN</td>\n",
              "      <td>NaN</td>\n",
              "      <td>NaN</td>\n",
              "      <td>NaN</td>\n",
              "    </tr>\n",
              "    <tr>\n",
              "      <th>18</th>\n",
              "      <td>18</td>\n",
              "      <td>2020-04-11T03:20:02.110170+00:00</td>\n",
              "      <td>0.0632</td>\n",
              "      <td>46.1</td>\n",
              "      <td>53.4</td>\n",
              "      <td>NaN</td>\n",
              "      <td>NaN</td>\n",
              "      <td>NaN</td>\n",
              "      <td>NaN</td>\n",
              "      <td>NaN</td>\n",
              "      <td>NaN</td>\n",
              "    </tr>\n",
              "    <tr>\n",
              "      <th>19</th>\n",
              "      <td>19</td>\n",
              "      <td>2020-04-11T08:25:44.152811+00:00</td>\n",
              "      <td>0.9882</td>\n",
              "      <td>NaN</td>\n",
              "      <td>NaN</td>\n",
              "      <td>NaN</td>\n",
              "      <td>NaN</td>\n",
              "      <td>NaN</td>\n",
              "      <td>NaN</td>\n",
              "      <td>NaN</td>\n",
              "      <td>NaN</td>\n",
              "    </tr>\n",
              "    <tr>\n",
              "      <th>20</th>\n",
              "      <td>20</td>\n",
              "      <td>2020-04-10T00:08:22.055416+00:00</td>\n",
              "      <td>0.9850</td>\n",
              "      <td>NaN</td>\n",
              "      <td>NaN</td>\n",
              "      <td>NaN</td>\n",
              "      <td>NaN</td>\n",
              "      <td>NaN</td>\n",
              "      <td>NaN</td>\n",
              "      <td>NaN</td>\n",
              "      <td>NaN</td>\n",
              "    </tr>\n",
              "  </tbody>\n",
              "</table>\n",
              "</div>"
            ],
            "text/plain": [
              "    Unnamed: 0                          datetime  ...  status  expert_labels_3\n",
              "3            3  2020-04-15T01:03:59.029326+00:00  ...     NaN              NaN\n",
              "5            5  2020-04-17T15:24:35.822355+00:00  ...     NaN              NaN\n",
              "7            7  2020-05-15T08:50:59.481638+00:00  ...     NaN              NaN\n",
              "12          12  2020-04-13T19:51:11.397697+00:00  ...     NaN              NaN\n",
              "13          13  2020-07-24T07:16:32.981624+00:00  ...     NaN              NaN\n",
              "14          14  2020-04-24T17:49:59.357899+00:00  ...     NaN              NaN\n",
              "16          16  2020-04-11T17:00:58.737255+00:00  ...     NaN              NaN\n",
              "18          18  2020-04-11T03:20:02.110170+00:00  ...     NaN              NaN\n",
              "19          19  2020-04-11T08:25:44.152811+00:00  ...     NaN              NaN\n",
              "20          20  2020-04-10T00:08:22.055416+00:00  ...     NaN              NaN\n",
              "\n",
              "[10 rows x 11 columns]"
            ]
          },
          "metadata": {
            "tags": []
          },
          "execution_count": 4
        }
      ]
    },
    {
      "cell_type": "code",
      "metadata": {
        "id": "7Z54gvBsksDf"
      },
      "source": [
        "updt=dataset.drop('expert_labels_3', inplace=True, axis=1)\n"
      ],
      "execution_count": null,
      "outputs": []
    },
    {
      "cell_type": "code",
      "metadata": {
        "id": "DHi5Gd7SZNjN"
      },
      "source": [
        "updt=dataset.drop('datetime', inplace=True, axis=1)"
      ],
      "execution_count": null,
      "outputs": []
    },
    {
      "cell_type": "code",
      "metadata": {
        "id": "lrjz5dnCrKs5"
      },
      "source": [
        "updt=dataset.dropna(subset=['gender','respiratory_condition','fever_muscle_pain'],how='all')"
      ],
      "execution_count": null,
      "outputs": []
    },
    {
      "cell_type": "code",
      "metadata": {
        "colab": {
          "base_uri": "https://localhost:8080/",
          "height": 415
        },
        "id": "MXLnkoeusIOL",
        "outputId": "9d0b0e6d-fca7-44c4-c0dd-500dff236838"
      },
      "source": [
        "updt"
      ],
      "execution_count": null,
      "outputs": [
        {
          "output_type": "execute_result",
          "data": {
            "text/html": [
              "<div>\n",
              "<style scoped>\n",
              "    .dataframe tbody tr th:only-of-type {\n",
              "        vertical-align: middle;\n",
              "    }\n",
              "\n",
              "    .dataframe tbody tr th {\n",
              "        vertical-align: top;\n",
              "    }\n",
              "\n",
              "    .dataframe thead th {\n",
              "        text-align: right;\n",
              "    }\n",
              "</style>\n",
              "<table border=\"1\" class=\"dataframe\">\n",
              "  <thead>\n",
              "    <tr style=\"text-align: right;\">\n",
              "      <th></th>\n",
              "      <th>Unnamed: 0</th>\n",
              "      <th>cough_detected</th>\n",
              "      <th>latitude</th>\n",
              "      <th>longitude</th>\n",
              "      <th>age</th>\n",
              "      <th>gender</th>\n",
              "      <th>respiratory_condition</th>\n",
              "      <th>fever_muscle_pain</th>\n",
              "      <th>status</th>\n",
              "    </tr>\n",
              "  </thead>\n",
              "  <tbody>\n",
              "    <tr>\n",
              "      <th>0</th>\n",
              "      <td>0</td>\n",
              "      <td>0.9609</td>\n",
              "      <td>31.3</td>\n",
              "      <td>34.8</td>\n",
              "      <td>15.0</td>\n",
              "      <td>male</td>\n",
              "      <td>False</td>\n",
              "      <td>False</td>\n",
              "      <td>healthy</td>\n",
              "    </tr>\n",
              "    <tr>\n",
              "      <th>1</th>\n",
              "      <td>1</td>\n",
              "      <td>0.9609</td>\n",
              "      <td>31.3</td>\n",
              "      <td>34.8</td>\n",
              "      <td>15.0</td>\n",
              "      <td>male</td>\n",
              "      <td>False</td>\n",
              "      <td>False</td>\n",
              "      <td>healthy</td>\n",
              "    </tr>\n",
              "    <tr>\n",
              "      <th>2</th>\n",
              "      <td>2</td>\n",
              "      <td>0.9301</td>\n",
              "      <td>40.0</td>\n",
              "      <td>-75.1</td>\n",
              "      <td>34.0</td>\n",
              "      <td>male</td>\n",
              "      <td>True</td>\n",
              "      <td>False</td>\n",
              "      <td>healthy</td>\n",
              "    </tr>\n",
              "    <tr>\n",
              "      <th>4</th>\n",
              "      <td>4</td>\n",
              "      <td>0.9968</td>\n",
              "      <td>NaN</td>\n",
              "      <td>NaN</td>\n",
              "      <td>21.0</td>\n",
              "      <td>male</td>\n",
              "      <td>False</td>\n",
              "      <td>False</td>\n",
              "      <td>healthy</td>\n",
              "    </tr>\n",
              "    <tr>\n",
              "      <th>6</th>\n",
              "      <td>6</td>\n",
              "      <td>0.0306</td>\n",
              "      <td>13.8</td>\n",
              "      <td>-89.6</td>\n",
              "      <td>NaN</td>\n",
              "      <td>female</td>\n",
              "      <td>False</td>\n",
              "      <td>True</td>\n",
              "      <td>COVID-19</td>\n",
              "    </tr>\n",
              "    <tr>\n",
              "      <th>8</th>\n",
              "      <td>8</td>\n",
              "      <td>0.8937</td>\n",
              "      <td>NaN</td>\n",
              "      <td>NaN</td>\n",
              "      <td>28.0</td>\n",
              "      <td>female</td>\n",
              "      <td>False</td>\n",
              "      <td>False</td>\n",
              "      <td>healthy</td>\n",
              "    </tr>\n",
              "    <tr>\n",
              "      <th>9</th>\n",
              "      <td>9</td>\n",
              "      <td>0.9883</td>\n",
              "      <td>39.4</td>\n",
              "      <td>67.2</td>\n",
              "      <td>15.0</td>\n",
              "      <td>male</td>\n",
              "      <td>False</td>\n",
              "      <td>False</td>\n",
              "      <td>healthy</td>\n",
              "    </tr>\n",
              "    <tr>\n",
              "      <th>10</th>\n",
              "      <td>10</td>\n",
              "      <td>0.9456</td>\n",
              "      <td>NaN</td>\n",
              "      <td>NaN</td>\n",
              "      <td>35.0</td>\n",
              "      <td>male</td>\n",
              "      <td>True</td>\n",
              "      <td>False</td>\n",
              "      <td>symptomatic</td>\n",
              "    </tr>\n",
              "    <tr>\n",
              "      <th>11</th>\n",
              "      <td>11</td>\n",
              "      <td>0.9959</td>\n",
              "      <td>NaN</td>\n",
              "      <td>NaN</td>\n",
              "      <td>46.0</td>\n",
              "      <td>female</td>\n",
              "      <td>False</td>\n",
              "      <td>False</td>\n",
              "      <td>healthy</td>\n",
              "    </tr>\n",
              "    <tr>\n",
              "      <th>15</th>\n",
              "      <td>15</td>\n",
              "      <td>0.0576</td>\n",
              "      <td>46.8</td>\n",
              "      <td>6.6</td>\n",
              "      <td>NaN</td>\n",
              "      <td>male</td>\n",
              "      <td>True</td>\n",
              "      <td>False</td>\n",
              "      <td>COVID-19</td>\n",
              "    </tr>\n",
              "    <tr>\n",
              "      <th>17</th>\n",
              "      <td>17</td>\n",
              "      <td>0.8109</td>\n",
              "      <td>41.1</td>\n",
              "      <td>28.8</td>\n",
              "      <td>39.0</td>\n",
              "      <td>other</td>\n",
              "      <td>False</td>\n",
              "      <td>False</td>\n",
              "      <td>healthy</td>\n",
              "    </tr>\n",
              "  </tbody>\n",
              "</table>\n",
              "</div>"
            ],
            "text/plain": [
              "    Unnamed: 0  cough_detected  ...  fever_muscle_pain       status\n",
              "0            0          0.9609  ...              False      healthy\n",
              "1            1          0.9609  ...              False      healthy\n",
              "2            2          0.9301  ...              False      healthy\n",
              "4            4          0.9968  ...              False      healthy\n",
              "6            6          0.0306  ...               True     COVID-19\n",
              "8            8          0.8937  ...              False      healthy\n",
              "9            9          0.9883  ...              False      healthy\n",
              "10          10          0.9456  ...              False  symptomatic\n",
              "11          11          0.9959  ...              False      healthy\n",
              "15          15          0.0576  ...              False     COVID-19\n",
              "17          17          0.8109  ...              False      healthy\n",
              "\n",
              "[11 rows x 9 columns]"
            ]
          },
          "metadata": {
            "tags": []
          },
          "execution_count": 8
        }
      ]
    },
    {
      "cell_type": "code",
      "metadata": {
        "id": "u3_p9QyWpo_4"
      },
      "source": [
        "\n"
      ],
      "execution_count": null,
      "outputs": []
    },
    {
      "cell_type": "code",
      "metadata": {
        "id": "mm51pPddcSyr"
      },
      "source": [
        ""
      ],
      "execution_count": null,
      "outputs": []
    },
    {
      "cell_type": "code",
      "metadata": {
        "colab": {
          "base_uri": "https://localhost:8080/"
        },
        "id": "tQSAqWqCEuQw",
        "outputId": "b6141a53-b450-47bb-9355-cb0276f81adf"
      },
      "source": [
        "updt['fever_muscle_pain']"
      ],
      "execution_count": null,
      "outputs": [
        {
          "output_type": "execute_result",
          "data": {
            "text/plain": [
              "0     False\n",
              "1     False\n",
              "2     False\n",
              "4     False\n",
              "6      True\n",
              "8     False\n",
              "9     False\n",
              "10    False\n",
              "11    False\n",
              "15    False\n",
              "17    False\n",
              "Name: fever_muscle_pain, dtype: object"
            ]
          },
          "metadata": {
            "tags": []
          },
          "execution_count": 9
        }
      ]
    },
    {
      "cell_type": "code",
      "metadata": {
        "colab": {
          "base_uri": "https://localhost:8080/"
        },
        "id": "MTW3Ja8MA_NZ",
        "outputId": "942e4158-d162-4c45-bf48-9bdc6bafa7e4"
      },
      "source": [
        "from sklearn import preprocessing\n",
        "levelencoder= preprocessing.LabelEncoder()\n",
        "updt['fever_muscle_pain']= levelencoder.fit_transform(updt['fever_muscle_pain'])\n",
        "updt['respiratory_condition']= levelencoder.fit_transform(updt['respiratory_condition'])\n",
        "updt['status']= levelencoder.fit_transform(updt['status'])"
      ],
      "execution_count": null,
      "outputs": [
        {
          "output_type": "stream",
          "text": [
            "/usr/local/lib/python3.7/dist-packages/ipykernel_launcher.py:3: SettingWithCopyWarning: \n",
            "A value is trying to be set on a copy of a slice from a DataFrame.\n",
            "Try using .loc[row_indexer,col_indexer] = value instead\n",
            "\n",
            "See the caveats in the documentation: https://pandas.pydata.org/pandas-docs/stable/user_guide/indexing.html#returning-a-view-versus-a-copy\n",
            "  This is separate from the ipykernel package so we can avoid doing imports until\n",
            "/usr/local/lib/python3.7/dist-packages/ipykernel_launcher.py:4: SettingWithCopyWarning: \n",
            "A value is trying to be set on a copy of a slice from a DataFrame.\n",
            "Try using .loc[row_indexer,col_indexer] = value instead\n",
            "\n",
            "See the caveats in the documentation: https://pandas.pydata.org/pandas-docs/stable/user_guide/indexing.html#returning-a-view-versus-a-copy\n",
            "  after removing the cwd from sys.path.\n",
            "/usr/local/lib/python3.7/dist-packages/ipykernel_launcher.py:5: SettingWithCopyWarning: \n",
            "A value is trying to be set on a copy of a slice from a DataFrame.\n",
            "Try using .loc[row_indexer,col_indexer] = value instead\n",
            "\n",
            "See the caveats in the documentation: https://pandas.pydata.org/pandas-docs/stable/user_guide/indexing.html#returning-a-view-versus-a-copy\n",
            "  \"\"\"\n"
          ],
          "name": "stderr"
        }
      ]
    },
    {
      "cell_type": "code",
      "metadata": {
        "colab": {
          "base_uri": "https://localhost:8080/",
          "height": 415
        },
        "id": "Eq9KKrjpGsSL",
        "outputId": "5f3555fa-8718-4392-90fb-e724fee96f4d"
      },
      "source": [
        "updt"
      ],
      "execution_count": null,
      "outputs": [
        {
          "output_type": "execute_result",
          "data": {
            "text/html": [
              "<div>\n",
              "<style scoped>\n",
              "    .dataframe tbody tr th:only-of-type {\n",
              "        vertical-align: middle;\n",
              "    }\n",
              "\n",
              "    .dataframe tbody tr th {\n",
              "        vertical-align: top;\n",
              "    }\n",
              "\n",
              "    .dataframe thead th {\n",
              "        text-align: right;\n",
              "    }\n",
              "</style>\n",
              "<table border=\"1\" class=\"dataframe\">\n",
              "  <thead>\n",
              "    <tr style=\"text-align: right;\">\n",
              "      <th></th>\n",
              "      <th>Unnamed: 0</th>\n",
              "      <th>cough_detected</th>\n",
              "      <th>latitude</th>\n",
              "      <th>longitude</th>\n",
              "      <th>age</th>\n",
              "      <th>gender</th>\n",
              "      <th>respiratory_condition</th>\n",
              "      <th>fever_muscle_pain</th>\n",
              "      <th>status</th>\n",
              "    </tr>\n",
              "  </thead>\n",
              "  <tbody>\n",
              "    <tr>\n",
              "      <th>0</th>\n",
              "      <td>0</td>\n",
              "      <td>0.9609</td>\n",
              "      <td>31.3</td>\n",
              "      <td>34.8</td>\n",
              "      <td>15.0</td>\n",
              "      <td>male</td>\n",
              "      <td>0</td>\n",
              "      <td>0</td>\n",
              "      <td>1</td>\n",
              "    </tr>\n",
              "    <tr>\n",
              "      <th>1</th>\n",
              "      <td>1</td>\n",
              "      <td>0.9609</td>\n",
              "      <td>31.3</td>\n",
              "      <td>34.8</td>\n",
              "      <td>15.0</td>\n",
              "      <td>male</td>\n",
              "      <td>0</td>\n",
              "      <td>0</td>\n",
              "      <td>1</td>\n",
              "    </tr>\n",
              "    <tr>\n",
              "      <th>2</th>\n",
              "      <td>2</td>\n",
              "      <td>0.9301</td>\n",
              "      <td>40.0</td>\n",
              "      <td>-75.1</td>\n",
              "      <td>34.0</td>\n",
              "      <td>male</td>\n",
              "      <td>1</td>\n",
              "      <td>0</td>\n",
              "      <td>1</td>\n",
              "    </tr>\n",
              "    <tr>\n",
              "      <th>4</th>\n",
              "      <td>4</td>\n",
              "      <td>0.9968</td>\n",
              "      <td>NaN</td>\n",
              "      <td>NaN</td>\n",
              "      <td>21.0</td>\n",
              "      <td>male</td>\n",
              "      <td>0</td>\n",
              "      <td>0</td>\n",
              "      <td>1</td>\n",
              "    </tr>\n",
              "    <tr>\n",
              "      <th>6</th>\n",
              "      <td>6</td>\n",
              "      <td>0.0306</td>\n",
              "      <td>13.8</td>\n",
              "      <td>-89.6</td>\n",
              "      <td>NaN</td>\n",
              "      <td>female</td>\n",
              "      <td>0</td>\n",
              "      <td>1</td>\n",
              "      <td>0</td>\n",
              "    </tr>\n",
              "    <tr>\n",
              "      <th>8</th>\n",
              "      <td>8</td>\n",
              "      <td>0.8937</td>\n",
              "      <td>NaN</td>\n",
              "      <td>NaN</td>\n",
              "      <td>28.0</td>\n",
              "      <td>female</td>\n",
              "      <td>0</td>\n",
              "      <td>0</td>\n",
              "      <td>1</td>\n",
              "    </tr>\n",
              "    <tr>\n",
              "      <th>9</th>\n",
              "      <td>9</td>\n",
              "      <td>0.9883</td>\n",
              "      <td>39.4</td>\n",
              "      <td>67.2</td>\n",
              "      <td>15.0</td>\n",
              "      <td>male</td>\n",
              "      <td>0</td>\n",
              "      <td>0</td>\n",
              "      <td>1</td>\n",
              "    </tr>\n",
              "    <tr>\n",
              "      <th>10</th>\n",
              "      <td>10</td>\n",
              "      <td>0.9456</td>\n",
              "      <td>NaN</td>\n",
              "      <td>NaN</td>\n",
              "      <td>35.0</td>\n",
              "      <td>male</td>\n",
              "      <td>1</td>\n",
              "      <td>0</td>\n",
              "      <td>2</td>\n",
              "    </tr>\n",
              "    <tr>\n",
              "      <th>11</th>\n",
              "      <td>11</td>\n",
              "      <td>0.9959</td>\n",
              "      <td>NaN</td>\n",
              "      <td>NaN</td>\n",
              "      <td>46.0</td>\n",
              "      <td>female</td>\n",
              "      <td>0</td>\n",
              "      <td>0</td>\n",
              "      <td>1</td>\n",
              "    </tr>\n",
              "    <tr>\n",
              "      <th>15</th>\n",
              "      <td>15</td>\n",
              "      <td>0.0576</td>\n",
              "      <td>46.8</td>\n",
              "      <td>6.6</td>\n",
              "      <td>NaN</td>\n",
              "      <td>male</td>\n",
              "      <td>1</td>\n",
              "      <td>0</td>\n",
              "      <td>0</td>\n",
              "    </tr>\n",
              "    <tr>\n",
              "      <th>17</th>\n",
              "      <td>17</td>\n",
              "      <td>0.8109</td>\n",
              "      <td>41.1</td>\n",
              "      <td>28.8</td>\n",
              "      <td>39.0</td>\n",
              "      <td>other</td>\n",
              "      <td>0</td>\n",
              "      <td>0</td>\n",
              "      <td>1</td>\n",
              "    </tr>\n",
              "  </tbody>\n",
              "</table>\n",
              "</div>"
            ],
            "text/plain": [
              "    Unnamed: 0  cough_detected  ...  fever_muscle_pain  status\n",
              "0            0          0.9609  ...                  0       1\n",
              "1            1          0.9609  ...                  0       1\n",
              "2            2          0.9301  ...                  0       1\n",
              "4            4          0.9968  ...                  0       1\n",
              "6            6          0.0306  ...                  1       0\n",
              "8            8          0.8937  ...                  0       1\n",
              "9            9          0.9883  ...                  0       1\n",
              "10          10          0.9456  ...                  0       2\n",
              "11          11          0.9959  ...                  0       1\n",
              "15          15          0.0576  ...                  0       0\n",
              "17          17          0.8109  ...                  0       1\n",
              "\n",
              "[11 rows x 9 columns]"
            ]
          },
          "metadata": {
            "tags": []
          },
          "execution_count": 11
        }
      ]
    },
    {
      "cell_type": "code",
      "metadata": {
        "id": "0PVov6TyVxcQ"
      },
      "source": [
        "X = updt.iloc[:, 1:-1].values\n",
        "y = updt.iloc[:, -1].values"
      ],
      "execution_count": null,
      "outputs": []
    },
    {
      "cell_type": "code",
      "metadata": {
        "colab": {
          "base_uri": "https://localhost:8080/"
        },
        "id": "p-74uTOfafKq",
        "outputId": "42771fe7-e5e8-4f20-8f2c-1205d884f700"
      },
      "source": [
        "X"
      ],
      "execution_count": null,
      "outputs": [
        {
          "output_type": "execute_result",
          "data": {
            "text/plain": [
              "array([[0.9609, 31.3, 34.8, 15.0, 'male', 0, 0],\n",
              "       [0.9609, 31.3, 34.8, 15.0, 'male', 0, 0],\n",
              "       [0.9301, 40.0, -75.1, 34.0, 'male', 1, 0],\n",
              "       [0.9968, nan, nan, 21.0, 'male', 0, 0],\n",
              "       [0.0306, 13.8, -89.6, nan, 'female', 0, 1],\n",
              "       [0.8937, nan, nan, 28.0, 'female', 0, 0],\n",
              "       [0.9883, 39.4, 67.2, 15.0, 'male', 0, 0],\n",
              "       [0.9456, nan, nan, 35.0, 'male', 1, 0],\n",
              "       [0.9959, nan, nan, 46.0, 'female', 0, 0],\n",
              "       [0.0576, 46.8, 6.6, nan, 'male', 1, 0],\n",
              "       [0.8109, 41.1, 28.8, 39.0, 'other', 0, 0]], dtype=object)"
            ]
          },
          "metadata": {
            "tags": []
          },
          "execution_count": 13
        }
      ]
    },
    {
      "cell_type": "code",
      "metadata": {
        "id": "-ASfAAIXarJi"
      },
      "source": [
        "from sklearn.impute import SimpleImputer\n",
        "imputer = SimpleImputer(missing_values=np.nan, strategy='mean')\n",
        "imputer.fit(X[:, 1:4])\n",
        "X[:, 1:4] = imputer.transform(X[:, 1:4])"
      ],
      "execution_count": null,
      "outputs": []
    },
    {
      "cell_type": "code",
      "metadata": {
        "colab": {
          "base_uri": "https://localhost:8080/"
        },
        "id": "2YrA5aTGaf_R",
        "outputId": "139d4398-4c10-47b2-f8bc-9ebcca03894d"
      },
      "source": [
        "X"
      ],
      "execution_count": null,
      "outputs": [
        {
          "output_type": "execute_result",
          "data": {
            "text/plain": [
              "array([[0.9609, 31.3, 34.8, 15.0, 'male', 0, 0],\n",
              "       [0.9609, 31.3, 34.8, 15.0, 'male', 0, 0],\n",
              "       [0.9301, 40.0, -75.1, 34.0, 'male', 1, 0],\n",
              "       [0.9968, 34.81428571428572, 1.071428571428573, 21.0, 'male', 0, 0],\n",
              "       [0.0306, 13.8, -89.6, 27.555555555555557, 'female', 0, 1],\n",
              "       [0.8937, 34.81428571428572, 1.071428571428573, 28.0, 'female', 0,\n",
              "        0],\n",
              "       [0.9883, 39.4, 67.2, 15.0, 'male', 0, 0],\n",
              "       [0.9456, 34.81428571428572, 1.071428571428573, 35.0, 'male', 1, 0],\n",
              "       [0.9959, 34.81428571428572, 1.071428571428573, 46.0, 'female', 0,\n",
              "        0],\n",
              "       [0.0576, 46.8, 6.6, 27.555555555555557, 'male', 1, 0],\n",
              "       [0.8109, 41.1, 28.8, 39.0, 'other', 0, 0]], dtype=object)"
            ]
          },
          "metadata": {
            "tags": []
          },
          "execution_count": 15
        }
      ]
    },
    {
      "cell_type": "code",
      "metadata": {
        "colab": {
          "base_uri": "https://localhost:8080/"
        },
        "id": "4-e0OA6wb6JL",
        "outputId": "911b724f-1c8f-4217-c3ac-1d2244e3e27d"
      },
      "source": [
        "y"
      ],
      "execution_count": null,
      "outputs": [
        {
          "output_type": "execute_result",
          "data": {
            "text/plain": [
              "array([1, 1, 1, 1, 0, 1, 1, 2, 1, 0, 1])"
            ]
          },
          "metadata": {
            "tags": []
          },
          "execution_count": 16
        }
      ]
    },
    {
      "cell_type": "code",
      "metadata": {
        "id": "DGIoTNFMcFsO"
      },
      "source": [
        ""
      ],
      "execution_count": null,
      "outputs": []
    },
    {
      "cell_type": "code",
      "metadata": {
        "id": "QNVYfthYGkev"
      },
      "source": [
        ""
      ],
      "execution_count": null,
      "outputs": []
    },
    {
      "cell_type": "code",
      "metadata": {
        "colab": {
          "base_uri": "https://localhost:8080/"
        },
        "id": "4ZhqjtflcUVV",
        "outputId": "4fa1cb90-6a19-42b5-df15-d3c335bc4846"
      },
      "source": [
        "from sklearn.compose import make_column_transformer\n",
        "from sklearn.preprocessing import OneHotEncoder\n",
        "ct = make_column_transformer((OneHotEncoder(), [4]), remainder='passthrough')\n",
        "ct.fit_transform(X)"
      ],
      "execution_count": null,
      "outputs": [
        {
          "output_type": "execute_result",
          "data": {
            "text/plain": [
              "array([[0.0, 1.0, 0.0, 0.9609, 31.3, 34.8, 15.0, 0, 0],\n",
              "       [0.0, 1.0, 0.0, 0.9609, 31.3, 34.8, 15.0, 0, 0],\n",
              "       [0.0, 1.0, 0.0, 0.9301, 40.0, -75.1, 34.0, 1, 0],\n",
              "       [0.0, 1.0, 0.0, 0.9968, 34.81428571428572, 1.071428571428573,\n",
              "        21.0, 0, 0],\n",
              "       [1.0, 0.0, 0.0, 0.0306, 13.8, -89.6, 27.555555555555557, 0, 1],\n",
              "       [1.0, 0.0, 0.0, 0.8937, 34.81428571428572, 1.071428571428573,\n",
              "        28.0, 0, 0],\n",
              "       [0.0, 1.0, 0.0, 0.9883, 39.4, 67.2, 15.0, 0, 0],\n",
              "       [0.0, 1.0, 0.0, 0.9456, 34.81428571428572, 1.071428571428573,\n",
              "        35.0, 1, 0],\n",
              "       [1.0, 0.0, 0.0, 0.9959, 34.81428571428572, 1.071428571428573,\n",
              "        46.0, 0, 0],\n",
              "       [0.0, 1.0, 0.0, 0.0576, 46.8, 6.6, 27.555555555555557, 1, 0],\n",
              "       [0.0, 0.0, 1.0, 0.8109, 41.1, 28.8, 39.0, 0, 0]], dtype=object)"
            ]
          },
          "metadata": {
            "tags": []
          },
          "execution_count": 17
        }
      ]
    },
    {
      "cell_type": "code",
      "metadata": {
        "id": "pGW17U4IommZ"
      },
      "source": [
        "#yt = make_column_transformer((OneHotEncoder(), [0]), remainder='passthrough')\n",
        "#y=yt.fit_transform(y)"
      ],
      "execution_count": null,
      "outputs": []
    },
    {
      "cell_type": "code",
      "metadata": {
        "colab": {
          "base_uri": "https://localhost:8080/"
        },
        "id": "MSjVDsdfDCCp",
        "outputId": "6f26095a-65da-4477-d241-be5b6ec4eca1"
      },
      "source": [
        "updt['cough_detected']"
      ],
      "execution_count": null,
      "outputs": [
        {
          "output_type": "execute_result",
          "data": {
            "text/plain": [
              "0     0.9609\n",
              "1     0.9609\n",
              "2     0.9301\n",
              "4     0.9968\n",
              "6     0.0306\n",
              "8     0.8937\n",
              "9     0.9883\n",
              "10    0.9456\n",
              "11    0.9959\n",
              "15    0.0576\n",
              "17    0.8109\n",
              "Name: cough_detected, dtype: float64"
            ]
          },
          "metadata": {
            "tags": []
          },
          "execution_count": 24
        }
      ]
    },
    {
      "cell_type": "code",
      "metadata": {
        "colab": {
          "base_uri": "https://localhost:8080/"
        },
        "id": "iJz80M_jDISG",
        "outputId": "f04f6b42-2428-4bce-f61b-c70fe199e26e"
      },
      "source": [
        "y"
      ],
      "execution_count": null,
      "outputs": [
        {
          "output_type": "execute_result",
          "data": {
            "text/plain": [
              "array([1, 1, 1, 1, 0, 1, 1, 2, 1, 0, 1])"
            ]
          },
          "metadata": {
            "tags": []
          },
          "execution_count": 19
        }
      ]
    },
    {
      "cell_type": "code",
      "metadata": {
        "colab": {
          "base_uri": "https://localhost:8080/",
          "height": 279
        },
        "id": "Me9yyZdIRc-W",
        "outputId": "f1b54d10-f41f-4d75-c902-1fd57221b031"
      },
      "source": [
        "plt.scatter(updt['cough_detected'], y, color = 'red')\n",
        "plt.xlabel('Position Level')\n",
        "plt.ylabel('Salary')\n",
        "plt.show()"
      ],
      "execution_count": null,
      "outputs": [
        {
          "output_type": "display_data",
          "data": {
            "image/png": "[encoded data removed]",
            "text/plain": [
              "<Figure size 432x288 with 1 Axes>"
            ]
          },
          "metadata": {
            "tags": [],
            "needs_background": "light"
          }
        }
      ]
    }
  ]
}